{
 "cells": [
  {
   "cell_type": "code",
   "execution_count": 1,
   "metadata": {},
   "outputs": [
    {
     "name": "stdout",
     "output_type": "stream",
     "text": [
      "__init__.py run\n"
     ]
    }
   ],
   "source": [
    "#Testing in local computer using VScode\n",
    "#import sys\n",
    "#sys.path.append('..')"
   ]
  },
  {
   "cell_type": "code",
   "execution_count": null,
   "metadata": {},
   "outputs": [],
   "source": [
    "import RedLionfishDeconv as rl\n",
    "import tifffile"
   ]
  },
  {
   "cell_type": "code",
   "execution_count": 2,
   "metadata": {},
   "outputs": [
    {
     "name": "stdout",
     "output_type": "stream",
     "text": [
      "data.shape: (60, 1026, 1544)\n",
      "psf.shape: (61, 32, 32)\n"
     ]
    }
   ],
   "source": [
    "#Load some data\n",
    "data = tifffile.imread(\"./testdata/gendata_psfconv_poiss_large.tif\")\n",
    "psf = tifffile.imread(\"./testdata/PSF_RFI_8bit.tif\")\n",
    "\n",
    "print(f\"data.shape: {data.shape}\")\n",
    "print(f\"psf.shape: {psf.shape}\")"
   ]
  },
  {
   "cell_type": "code",
   "execution_count": 4,
   "metadata": {},
   "outputs": [
    {
     "name": "stdout",
     "output_type": "stream",
     "text": [
      "Shape is too large\n",
      "Error: nonBlock_RLDeconvolutionReiknaOCL failed (GPU). Will try next to use block deconvolution.\n",
      "data shape: (60, 1026, 1544) , psf shape: (61, 32, 32)\n",
      "blockshape: [60, 512, 512]\n",
      "blockstep: [60, 473, 473]\n",
      "New block, intended origin iz0,iy0,ix0 = 0,0,0 , use origin iz00,iy00,ix00 = 0,0,0 , end iz1,iy1,ix1 = 60,512,512\n",
      "Start RL deconvolution of this block\n",
      "RL completed, result collected\n",
      "Clearing GPU RAM\n",
      "This block's RL deconvolution completed\n",
      "Crop block result from origin jz0,jy0,jx0 = : 0,0,0\n",
      "Copying cropped block to datares\n",
      "New block, intended origin iz0,iy0,ix0 = 0,0,473 , use origin iz00,iy00,ix00 = 0,0,473 , end iz1,iy1,ix1 = 60,512,985\n",
      "Start RL deconvolution of this block\n",
      "Error: block_RLDeconv3DReiknaOCL4 with blocksize=512 failed (GPU). Will try to halve blocksize.\n",
      "data shape: (60, 1026, 1544) , psf shape: (61, 32, 32)\n",
      "blockshape: [60, 256, 256]\n",
      "blockstep: [60, 217, 217]\n",
      "New block, intended origin iz0,iy0,ix0 = 0,0,0 , use origin iz00,iy00,ix00 = 0,0,0 , end iz1,iy1,ix1 = 60,256,256\n",
      "Start RL deconvolution of this block\n",
      "Error: block_RLDeconv3DReiknaOCL4 with blocksize=256 failed (GPU). Will try to halve blocksize.\n",
      "data shape: (60, 1026, 1544) , psf shape: (61, 32, 32)\n",
      "blockshape: [60, 128, 128]\n",
      "blockstep: [60, 89, 89]\n",
      "New block, intended origin iz0,iy0,ix0 = 0,0,0 , use origin iz00,iy00,ix00 = 0,0,0 , end iz1,iy1,ix1 = 60,128,128\n",
      "Start RL deconvolution of this block\n",
      "RL completed, result collected\n",
      "Clearing GPU RAM\n",
      "This block's RL deconvolution completed\n",
      "Crop block result from origin jz0,jy0,jx0 = : 0,0,0\n",
      "Copying cropped block to datares\n",
      "New block, intended origin iz0,iy0,ix0 = 0,0,89 , use origin iz00,iy00,ix00 = 0,0,89 , end iz1,iy1,ix1 = 60,128,217\n",
      "Start RL deconvolution of this block\n",
      "RL completed, result collected\n",
      "Clearing GPU RAM\n",
      "This block's RL deconvolution completed\n",
      "Crop block result from origin jz0,jy0,jx0 = : 0,0,19\n",
      "Copying cropped block to datares\n",
      "New block, intended origin iz0,iy0,ix0 = 0,0,178 , use origin iz00,iy00,ix00 = 0,0,178 , end iz1,iy1,ix1 = 60,128,306\n",
      "Start RL deconvolution of this block\n",
      "RL completed, result collected\n",
      "Clearing GPU RAM\n",
      "This block's RL deconvolution completed\n",
      "Crop block result from origin jz0,jy0,jx0 = : 0,0,19\n",
      "Copying cropped block to datares\n",
      "New block, intended origin iz0,iy0,ix0 = 0,0,267 , use origin iz00,iy00,ix00 = 0,0,267 , end iz1,iy1,ix1 = 60,128,395\n",
      "Start RL deconvolution of this block\n",
      "RL completed, result collected\n",
      "Clearing GPU RAM\n",
      "This block's RL deconvolution completed\n",
      "Crop block result from origin jz0,jy0,jx0 = : 0,0,19\n",
      "Copying cropped block to datares\n",
      "New block, intended origin iz0,iy0,ix0 = 0,0,356 , use origin iz00,iy00,ix00 = 0,0,356 , end iz1,iy1,ix1 = 60,128,484\n",
      "Start RL deconvolution of this block\n",
      "RL completed, result collected\n",
      "Clearing GPU RAM\n",
      "This block's RL deconvolution completed\n",
      "Crop block result from origin jz0,jy0,jx0 = : 0,0,19\n",
      "Copying cropped block to datares\n",
      "New block, intended origin iz0,iy0,ix0 = 0,0,445 , use origin iz00,iy00,ix00 = 0,0,445 , end iz1,iy1,ix1 = 60,128,573\n",
      "Start RL deconvolution of this block\n",
      "RL completed, result collected\n",
      "Clearing GPU RAM\n",
      "This block's RL deconvolution completed\n",
      "Crop block result from origin jz0,jy0,jx0 = : 0,0,19\n",
      "Copying cropped block to datares\n",
      "New block, intended origin iz0,iy0,ix0 = 0,0,534 , use origin iz00,iy00,ix00 = 0,0,534 , end iz1,iy1,ix1 = 60,128,662\n",
      "Start RL deconvolution of this block\n",
      "RL completed, result collected\n",
      "Clearing GPU RAM\n",
      "This block's RL deconvolution completed\n",
      "Crop block result from origin jz0,jy0,jx0 = : 0,0,19\n",
      "Copying cropped block to datares\n",
      "New block, intended origin iz0,iy0,ix0 = 0,0,623 , use origin iz00,iy00,ix00 = 0,0,623 , end iz1,iy1,ix1 = 60,128,751\n",
      "Start RL deconvolution of this block\n",
      "RL completed, result collected\n",
      "Clearing GPU RAM\n",
      "This block's RL deconvolution completed\n",
      "Crop block result from origin jz0,jy0,jx0 = : 0,0,19\n",
      "Copying cropped block to datares\n",
      "New block, intended origin iz0,iy0,ix0 = 0,0,712 , use origin iz00,iy00,ix00 = 0,0,712 , end iz1,iy1,ix1 = 60,128,840\n",
      "Start RL deconvolution of this block\n",
      "RL completed, result collected\n",
      "Clearing GPU RAM\n",
      "This block's RL deconvolution completed\n",
      "Crop block result from origin jz0,jy0,jx0 = : 0,0,19\n",
      "Copying cropped block to datares\n",
      "New block, intended origin iz0,iy0,ix0 = 0,0,801 , use origin iz00,iy00,ix00 = 0,0,801 , end iz1,iy1,ix1 = 60,128,929\n",
      "Start RL deconvolution of this block\n",
      "RL completed, result collected\n",
      "Clearing GPU RAM\n",
      "This block's RL deconvolution completed\n",
      "Crop block result from origin jz0,jy0,jx0 = : 0,0,19\n",
      "Copying cropped block to datares\n",
      "New block, intended origin iz0,iy0,ix0 = 0,0,890 , use origin iz00,iy00,ix00 = 0,0,890 , end iz1,iy1,ix1 = 60,128,1018\n",
      "Start RL deconvolution of this block\n",
      "RL completed, result collected\n",
      "Clearing GPU RAM\n",
      "This block's RL deconvolution completed\n",
      "Crop block result from origin jz0,jy0,jx0 = : 0,0,19\n",
      "Copying cropped block to datares\n",
      "New block, intended origin iz0,iy0,ix0 = 0,0,979 , use origin iz00,iy00,ix00 = 0,0,979 , end iz1,iy1,ix1 = 60,128,1107\n",
      "Start RL deconvolution of this block\n",
      "RL completed, result collected\n",
      "Clearing GPU RAM\n",
      "This block's RL deconvolution completed\n",
      "Crop block result from origin jz0,jy0,jx0 = : 0,0,19\n",
      "Copying cropped block to datares\n",
      "New block, intended origin iz0,iy0,ix0 = 0,0,1068 , use origin iz00,iy00,ix00 = 0,0,1068 , end iz1,iy1,ix1 = 60,128,1196\n",
      "Start RL deconvolution of this block\n",
      "RL completed, result collected\n",
      "Clearing GPU RAM\n",
      "This block's RL deconvolution completed\n",
      "Crop block result from origin jz0,jy0,jx0 = : 0,0,19\n",
      "Copying cropped block to datares\n",
      "New block, intended origin iz0,iy0,ix0 = 0,0,1157 , use origin iz00,iy00,ix00 = 0,0,1157 , end iz1,iy1,ix1 = 60,128,1285\n",
      "Start RL deconvolution of this block\n",
      "RL completed, result collected\n",
      "Clearing GPU RAM\n",
      "This block's RL deconvolution completed\n",
      "Crop block result from origin jz0,jy0,jx0 = : 0,0,19\n",
      "Copying cropped block to datares\n",
      "New block, intended origin iz0,iy0,ix0 = 0,0,1246 , use origin iz00,iy00,ix00 = 0,0,1246 , end iz1,iy1,ix1 = 60,128,1374\n",
      "Start RL deconvolution of this block\n",
      "RL completed, result collected\n",
      "Clearing GPU RAM\n",
      "This block's RL deconvolution completed\n",
      "Crop block result from origin jz0,jy0,jx0 = : 0,0,19\n",
      "Copying cropped block to datares\n",
      "New block, intended origin iz0,iy0,ix0 = 0,0,1335 , use origin iz00,iy00,ix00 = 0,0,1335 , end iz1,iy1,ix1 = 60,128,1463\n",
      "Start RL deconvolution of this block\n",
      "RL completed, result collected\n",
      "Clearing GPU RAM\n",
      "This block's RL deconvolution completed\n",
      "Crop block result from origin jz0,jy0,jx0 = : 0,0,19\n",
      "Copying cropped block to datares\n",
      "New block, intended origin iz0,iy0,ix0 = 0,0,1424 , use origin iz00,iy00,ix00 = 0,0,1416 , end iz1,iy1,ix1 = 60,128,1544\n",
      "Start RL deconvolution of this block\n"
     ]
    }
   ],
   "source": [
    "res_gpu = rl.doRLDeconvolutionFromNpArrays(data,psf, 10)"
   ]
  },
  {
   "cell_type": "code",
   "execution_count": 3,
   "metadata": {},
   "outputs": [
    {
     "ename": "NameError",
     "evalue": "name 'res_gpu' is not defined",
     "output_type": "error",
     "traceback": [
      "\u001b[1;31m---------------------------------------------------------------------------\u001b[0m",
      "\u001b[1;31mNameError\u001b[0m                                 Traceback (most recent call last)",
      "\u001b[1;32m~\\AppData\\Local\\Temp/ipykernel_11792/43233361.py\u001b[0m in \u001b[0;36m<module>\u001b[1;34m\u001b[0m\n\u001b[1;32m----> 1\u001b[1;33m \u001b[0mprint\u001b[0m\u001b[1;33m(\u001b[0m\u001b[1;34mf\"res_gpu.shape: {res_gpu.shape}\"\u001b[0m\u001b[1;33m)\u001b[0m\u001b[1;33m\u001b[0m\u001b[1;33m\u001b[0m\u001b[0m\n\u001b[0m",
      "\u001b[1;31mNameError\u001b[0m: name 'res_gpu' is not defined"
     ]
    }
   ],
   "source": [
    "print(f\"res_gpu.shape: {res_gpu.shape}\")"
   ]
  },
  {
   "cell_type": "code",
   "execution_count": 1,
   "metadata": {},
   "outputs": [
    {
     "ename": "NameError",
     "evalue": "name 'rl' is not defined",
     "output_type": "error",
     "traceback": [
      "\u001b[1;31m---------------------------------------------------------------------------\u001b[0m",
      "\u001b[1;31mNameError\u001b[0m                                 Traceback (most recent call last)",
      "\u001b[1;32m~\\AppData\\Local\\Temp/ipykernel_5268/3893354258.py\u001b[0m in \u001b[0;36m<module>\u001b[1;34m\u001b[0m\n\u001b[1;32m----> 1\u001b[1;33m \u001b[0mres_gpu_uint8\u001b[0m \u001b[1;33m=\u001b[0m \u001b[0mrl\u001b[0m\u001b[1;33m.\u001b[0m\u001b[0mhelperfunctions\u001b[0m\u001b[1;33m.\u001b[0m\u001b[0mconvertToUint8AndFullRange\u001b[0m\u001b[1;33m(\u001b[0m\u001b[0mres_gpu\u001b[0m\u001b[1;33m)\u001b[0m\u001b[1;33m\u001b[0m\u001b[1;33m\u001b[0m\u001b[0m\n\u001b[0m",
      "\u001b[1;31mNameError\u001b[0m: name 'rl' is not defined"
     ]
    }
   ],
   "source": [
    "res_gpu_uint8 = rl.helperfunctions.convertToUint8AndFullRange(res_gpu)"
   ]
  },
  {
   "cell_type": "code",
   "execution_count": 3,
   "metadata": {},
   "outputs": [],
   "source": [
    "res_cpu = rl.doRLDeconvolutionFromNpArrays(data,psf,10,method='cpu')"
   ]
  },
  {
   "cell_type": "code",
   "execution_count": 6,
   "metadata": {},
   "outputs": [
    {
     "data": {
      "text/plain": [
       "(60, 1026, 1544)"
      ]
     },
     "execution_count": 6,
     "metadata": {},
     "output_type": "execute_result"
    }
   ],
   "source": [
    "res_cpu.shape"
   ]
  },
  {
   "cell_type": "code",
   "execution_count": 7,
   "metadata": {},
   "outputs": [
    {
     "ename": "AttributeError",
     "evalue": "module 'RedLionfishDeconv' has no attribute 'helperfunctions'",
     "output_type": "error",
     "traceback": [
      "\u001b[1;31m---------------------------------------------------------------------------\u001b[0m",
      "\u001b[1;31mAttributeError\u001b[0m                            Traceback (most recent call last)",
      "\u001b[1;32m~\\AppData\\Local\\Temp/ipykernel_2256/410612220.py\u001b[0m in \u001b[0;36m<module>\u001b[1;34m\u001b[0m\n\u001b[1;32m----> 1\u001b[1;33m \u001b[0mres_cpu_uint8\u001b[0m \u001b[1;33m=\u001b[0m \u001b[0mrl\u001b[0m\u001b[1;33m.\u001b[0m\u001b[0mhelperfunctions\u001b[0m\u001b[1;33m.\u001b[0m\u001b[0mconvertToUint8AndFullRange\u001b[0m\u001b[1;33m(\u001b[0m\u001b[0mres_cpu\u001b[0m\u001b[1;33m)\u001b[0m\u001b[1;33m\u001b[0m\u001b[1;33m\u001b[0m\u001b[0m\n\u001b[0m",
      "\u001b[1;31mAttributeError\u001b[0m: module 'RedLionfishDeconv' has no attribute 'helperfunctions'"
     ]
    }
   ],
   "source": [
    "res_cpu_uint8 = rl.helperfunctions.convertToUint8AndFullRange(res_cpu)"
   ]
  },
  {
   "cell_type": "code",
   "execution_count": null,
   "metadata": {},
   "outputs": [],
   "source": [
    "import napari\n",
    "np = napari.view_image(res_gpu_uint8, ndisplay=3)\n",
    "np.add_image(res_cpu_uint8)"
   ]
  },
  {
   "cell_type": "code",
   "execution_count": null,
   "metadata": {},
   "outputs": [],
   "source": []
  }
 ],
 "metadata": {
  "interpreter": {
   "hash": "181599033aa013a348f55e980951d395a235453ffaaf6fbabf88e9b4b2c9ad13"
  },
  "kernelspec": {
   "display_name": "Python 3.8.12 64-bit ('dev': conda)",
   "name": "python3"
  },
  "language_info": {
   "codemirror_mode": {
    "name": "ipython",
    "version": 3
   },
   "file_extension": ".py",
   "mimetype": "text/x-python",
   "name": "python",
   "nbconvert_exporter": "python",
   "pygments_lexer": "ipython3",
   "version": "3.8.12"
  },
  "orig_nbformat": 4
 },
 "nbformat": 4,
 "nbformat_minor": 2
}
